{
 "cells": [
  {
   "cell_type": "code",
   "execution_count": 16,
   "metadata": {},
   "outputs": [],
   "source": [
    "import torchvision"
   ]
  },
  {
   "cell_type": "code",
   "execution_count": 17,
   "metadata": {},
   "outputs": [
    {
     "output_type": "display_data",
     "data": {
      "text/plain": "HBox(children=(FloatProgress(value=0.0, max=833.0), HTML(value='')))",
      "application/vnd.jupyter.widget-view+json": {
       "version_major": 2,
       "version_minor": 0,
       "model_id": "1cbc7777f6fd45c993ffea5f8456ae5d"
      }
     },
     "metadata": {}
    },
    {
     "output_type": "stream",
     "name": "stdout",
     "text": "\n"
    }
   ],
   "source": [
    "ds = torchvision.datasets.UCF101(\n",
    "    '../data/ucf-101/videos', \n",
    "    '../data/ucf-101/annots', \n",
    "    frames_per_clip=16)\n",
    "    "
   ]
  },
  {
   "cell_type": "code",
   "execution_count": 24,
   "metadata": {},
   "outputs": [],
   "source": [
    "class WholeInfoDataset(object):\n",
    "\n",
    "    def __init__(self, ds):\n",
    "        self.ds = ds\n",
    "    \n",
    "    def __len__(self):\n",
    "        return len(self.ds)\n",
    "    \n",
    "    def __getattr__(self, name):\n",
    "        return getattr(self.ds, name)\n",
    "\n",
    "    @property\n",
    "    def metadata(self):\n",
    "        return self.video_clips.metadata\n",
    "\n",
    "    def __getitem__(self, idx):\n",
    "        video, audio, info, video_idx = self.video_clips.get_clip(idx)\n",
    "        label = self.samples[video_idx][1]\n",
    "\n",
    "        if self.transform is not None:\n",
    "            video = self.transform(video)\n",
    "\n",
    "        return video, audio, label, info"
   ]
  },
  {
   "cell_type": "code",
   "execution_count": 25,
   "metadata": {},
   "outputs": [],
   "source": [
    "w_ds = WholeInfoDataset(ds)\n",
    "video, audio, label, info = w_ds[0]"
   ]
  },
  {
   "cell_type": "code",
   "execution_count": 26,
   "metadata": {},
   "outputs": [
    {
     "output_type": "execute_result",
     "data": {
      "text/plain": "{'video_fps': 25.0, 'audio_fps': 44100}"
     },
     "metadata": {},
     "execution_count": 26
    }
   ],
   "source": [
    "info"
   ]
  },
  {
   "cell_type": "code",
   "execution_count": 27,
   "metadata": {},
   "outputs": [
    {
     "output_type": "execute_result",
     "data": {
      "text/plain": "(torch.Size([16, 240, 320, 3]), torch.Size([2, 18432]), 0)"
     },
     "metadata": {},
     "execution_count": 27
    }
   ],
   "source": [
    "video.size(), audio.size(), label"
   ]
  }
 ],
 "metadata": {
  "language_info": {
   "codemirror_mode": {
    "name": "ipython",
    "version": 3
   },
   "file_extension": ".py",
   "mimetype": "text/x-python",
   "name": "python",
   "nbconvert_exporter": "python",
   "pygments_lexer": "ipython3",
   "version": "3.7.7-final"
  },
  "orig_nbformat": 2,
  "kernelspec": {
   "name": "python37764bitarcondab59bad9e8b9d4bffb76a325b4b35355b",
   "display_name": "Python 3.7.7 64-bit ('ar': conda)"
  }
 },
 "nbformat": 4,
 "nbformat_minor": 2
}