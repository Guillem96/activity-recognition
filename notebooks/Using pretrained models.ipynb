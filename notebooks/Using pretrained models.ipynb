{
 "cells": [
  {
   "cell_type": "code",
   "execution_count": 8,
   "metadata": {},
   "outputs": [],
   "source": [
    "import ar\n",
    "import ar.transforms as VT\n",
    "\n",
    "import torch\n",
    "import torchvision\n",
    "import torchvision.transforms as T"
   ]
  },
  {
   "cell_type": "code",
   "execution_count": null,
   "metadata": {},
   "outputs": [],
   "source": [
    "!git clone \"https://github.com/Guillem96/activity-recognition\""
   ]
  },
  {
   "cell_type": "code",
   "execution_count": 9,
   "metadata": {},
   "outputs": [],
   "source": [
    "model = ar.video.LRCN.from_pretrained('lrcn-ucf-101')"
   ]
  },
  {
   "cell_type": "code",
   "execution_count": 10,
   "metadata": {},
   "outputs": [],
   "source": [
    "class_names = '../data/ucf.names'\n",
    "classes = list(open(class_names).readlines())"
   ]
  },
  {
   "cell_type": "code",
   "execution_count": 11,
   "metadata": {},
   "outputs": [
    {
     "data": {
      "text/plain": [
       "torch.Size([57, 240, 320, 3])"
      ]
     },
     "execution_count": 11,
     "metadata": {},
     "output_type": "execute_result"
    }
   ],
   "source": [
    "video, _, _ = torchvision.io.read_video(\n",
    "    '../data/ucf-101/videos/BasketballDunk/v_BasketballDunk_g01_c07.avi')\n",
    "video.size()"
   ]
  },
  {
   "cell_type": "code",
   "execution_count": 15,
   "metadata": {},
   "outputs": [
    {
     "data": {
      "text/html": [
       "<video src=\"../data/ucf-101/videos/BasketballDunk/v_BasketballDunk_g01_c07.avi\" controls  >\n",
       "      Your browser does not support the <code>video</code> element.\n",
       "    </video>"
      ],
      "text/plain": [
       "<IPython.core.display.Video object>"
      ]
     },
     "execution_count": 15,
     "metadata": {},
     "output_type": "execute_result"
    }
   ],
   "source": [
    "from IPython import display\n",
    "display.Video('../data/ucf-101/videos/BasketballDunk/v_BasketballDunk_g01_c07.avi')"
   ]
  },
  {
   "cell_type": "code",
   "execution_count": 12,
   "metadata": {},
   "outputs": [],
   "source": [
    "tfms = T.Compose([\n",
    "    VT.VideoToTensor(),\n",
    "    VT.VideoResize((224, 224)),\n",
    "    VT.VideoNormalize(**VT.imagenet_stats)\n",
    "])"
   ]
  },
  {
   "cell_type": "code",
   "execution_count": 13,
   "metadata": {},
   "outputs": [
    {
     "data": {
      "text/plain": [
       "torch.Size([3, 3, 16, 128, 128])"
      ]
     },
     "execution_count": 13,
     "metadata": {},
     "output_type": "execute_result"
    }
   ],
   "source": [
    "clips = ar.video.uniform_sampling(video, clips_len=16)\n",
    "input_clips = torch.stack([tfms(o) for o in clips])\n",
    "input_clips.size()"
   ]
  },
  {
   "cell_type": "code",
   "execution_count": 14,
   "metadata": {},
   "outputs": [
    {
     "name": "stdout",
     "output_type": "stream",
     "text": [
      "Model predicted BasketballDunk\n",
      " with 0.6483045220375061 of confidence\n"
     ]
    }
   ],
   "source": [
    "with torch.no_grad():\n",
    "    prob_dist = model(input_clips)\n",
    "    score, label = prob_dist.exp().mean(0).max(0)\n",
    "\n",
    "print(f'Model predicted {classes[label.item()]} with {score.item()} of confidence')"
   ]
  }
 ],
 "metadata": {
  "interpreter": {
   "hash": "899a63a365f62b818d2db688ed4a6eff4bddec65a22b4289d163c484a37be121"
  },
  "kernelspec": {
   "display_name": "Python 3.8.8 64-bit ('torch': conda)",
   "name": "python3"
  },
  "language_info": {
   "name": "python",
   "version": ""
  },
  "orig_nbformat": 2
 },
 "nbformat": 4,
 "nbformat_minor": 2
}