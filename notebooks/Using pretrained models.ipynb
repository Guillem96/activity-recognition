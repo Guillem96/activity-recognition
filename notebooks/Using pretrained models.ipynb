{
 "cells": [
  {
   "cell_type": "code",
   "execution_count": 8,
   "metadata": {},
   "outputs": [],
   "source": [
    "import sys\n",
    "sys.path.append('..')\n",
    "\n",
    "import ar\n",
    "import ar.transforms as VT\n",
    "\n",
    "import torch\n",
    "import torchvision\n",
    "import torchvision.transforms as T"
   ]
  },
  {
   "cell_type": "code",
   "execution_count": 9,
   "metadata": {},
   "outputs": [],
   "source": [
    "model = ar.video.LRCN.from_pretrained('lrcn-ucf-101')\n",
    "model.eval();"
   ]
  },
  {
   "cell_type": "code",
   "execution_count": 10,
   "metadata": {},
   "outputs": [],
   "source": [
    "class_names = '../data/ucf.names'\n",
    "classes = list(open(class_names).readlines())"
   ]
  },
  {
   "cell_type": "code",
   "execution_count": 11,
   "metadata": {},
   "outputs": [
    {
     "output_type": "execute_result",
     "data": {
      "text/plain": "torch.Size([57, 240, 320, 3])"
     },
     "metadata": {},
     "execution_count": 11
    }
   ],
   "source": [
    "video, _, _ = torchvision.io.read_video(\n",
    "    '../data/ucf-101/videos/BasketballDunk/v_BasketballDunk_g01_c07.avi')\n",
    "video.size()"
   ]
  },
  {
   "cell_type": "code",
   "execution_count": 15,
   "metadata": {},
   "outputs": [
    {
     "output_type": "execute_result",
     "data": {
      "text/plain": "<IPython.core.display.Video object>",
      "text/html": "<video src=\"../data/ucf-101/videos/BasketballDunk/v_BasketballDunk_g01_c07.avi\" controls  >\n      Your browser does not support the <code>video</code> element.\n    </video>"
     },
     "metadata": {},
     "execution_count": 15
    }
   ],
   "source": [
    "from IPython import display\n",
    "display.Video('../data/ucf-101/videos/BasketballDunk/v_BasketballDunk_g01_c07.avi')"
   ]
  },
  {
   "cell_type": "code",
   "execution_count": 12,
   "metadata": {},
   "outputs": [],
   "source": [
    "tfms = T.Compose([\n",
    "    VT.VideoToTensor(),\n",
    "    VT.VideoResize((224, 224)),\n",
    "    VT.VideoNormalize(**VT.imagenet_stats)\n",
    "])"
   ]
  },
  {
   "cell_type": "code",
   "execution_count": 13,
   "metadata": {},
   "outputs": [
    {
     "output_type": "execute_result",
     "data": {
      "text/plain": "torch.Size([3, 3, 16, 128, 128])"
     },
     "metadata": {},
     "execution_count": 13
    }
   ],
   "source": [
    "clips = ar.video.uniform_sampling(video, clips_len=16)\n",
    "input_clips = torch.stack([tfms(o) for o in clips])\n",
    "input_clips.size()"
   ]
  },
  {
   "cell_type": "code",
   "execution_count": 14,
   "metadata": {},
   "outputs": [
    {
     "output_type": "stream",
     "name": "stdout",
     "text": "Model predicted BasketballDunk\n with 0.6483045220375061 of confidence\n"
    }
   ],
   "source": [
    "with torch.no_grad():\n",
    "    prob_dist = model(input_clips)\n",
    "    score, label = prob_dist.exp().mean(0).max(0)\n",
    "\n",
    "print(f'Model predicted {classes[label.item()]} with {score.item()} of confidence')"
   ]
  }
 ],
 "metadata": {
  "language_info": {
   "codemirror_mode": {
    "name": "ipython",
    "version": 3
   },
   "file_extension": ".py",
   "mimetype": "text/x-python",
   "name": "python",
   "nbconvert_exporter": "python",
   "pygments_lexer": "ipython3",
   "version": "3.7.7-final"
  },
  "orig_nbformat": 2,
  "kernelspec": {
   "name": "python37764bitarcondab59bad9e8b9d4bffb76a325b4b35355b",
   "display_name": "Python 3.7.7 64-bit ('ar': conda)"
  }
 },
 "nbformat": 4,
 "nbformat_minor": 2
}