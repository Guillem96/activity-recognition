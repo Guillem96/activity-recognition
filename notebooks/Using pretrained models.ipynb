{
  "nbformat": 4,
  "nbformat_minor": 0,
  "metadata": {
    "interpreter": {
      "hash": "899a63a365f62b818d2db688ed4a6eff4bddec65a22b4289d163c484a37be121"
    },
    "kernelspec": {
      "display_name": "Python 3.8.8 64-bit ('torch': conda)",
      "name": "python3"
    },
    "language_info": {
      "name": "python",
      "version": ""
    },
    "orig_nbformat": 2,
    "colab": {
      "name": "Using pretrained models.ipynb",
      "provenance": []
    }
  },
  "cells": [
    {
      "cell_type": "code",
      "metadata": {
        "id": "VqYtRWjd6ERf"
      },
      "source": [
        "!git clone \"https://github.com/Guillem96/activity-recognition\"\n",
        "!cd activity-recognition && pip install -e ."
      ],
      "execution_count": null,
      "outputs": []
    },
    {
      "cell_type": "code",
      "metadata": {
        "id": "VcA1t1PQ5d6K"
      },
      "source": [
        "import ar\n",
        "\n",
        "import torch\n",
        "import torchvision\n",
        "import torchvision.transforms as T"
      ],
      "execution_count": null,
      "outputs": []
    },
    {
      "cell_type": "code",
      "metadata": {
        "id": "hl2K91175d6N"
      },
      "source": [
        "model = ar.video.LRCN.from_pretrained('lrcn-ucf-101')"
      ],
      "execution_count": null,
      "outputs": []
    },
    {
      "cell_type": "code",
      "metadata": {
        "id": "pbv8Ez-R5d6O"
      },
      "source": [
        "class_names = '../data/ucf.names'\n",
        "classes = list(open(class_names).readlines())"
      ],
      "execution_count": null,
      "outputs": []
    },
    {
      "cell_type": "code",
      "metadata": {
        "id": "3SvMnam05d6O",
        "outputId": "72981dd2-3363-4788-c42b-985bffa2fca7"
      },
      "source": [
        "video, _, _ = torchvision.io.read_video(\n",
        "    '../data/ucf-101/videos/BasketballDunk/v_BasketballDunk_g01_c07.avi')\n",
        "video.size()"
      ],
      "execution_count": null,
      "outputs": [
        {
          "output_type": "execute_result",
          "data": {
            "text/plain": [
              "torch.Size([57, 240, 320, 3])"
            ]
          },
          "metadata": {
            "tags": []
          },
          "execution_count": 11
        }
      ]
    },
    {
      "cell_type": "code",
      "metadata": {
        "id": "OOFFfJ2v5d6P",
        "outputId": "18b35524-1953-433a-d00e-3451cfa7f4d7"
      },
      "source": [
        "from IPython import display\n",
        "display.Video('../data/ucf-101/videos/BasketballDunk/v_BasketballDunk_g01_c07.avi')"
      ],
      "execution_count": null,
      "outputs": [
        {
          "output_type": "execute_result",
          "data": {
            "text/html": [
              "<video src=\"../data/ucf-101/videos/BasketballDunk/v_BasketballDunk_g01_c07.avi\" controls  >\n",
              "      Your browser does not support the <code>video</code> element.\n",
              "    </video>"
            ],
            "text/plain": [
              "<IPython.core.display.Video object>"
            ]
          },
          "metadata": {
            "tags": []
          },
          "execution_count": 15
        }
      ]
    },
    {
      "cell_type": "code",
      "metadata": {
        "id": "xJbqxCDz5d6P"
      },
      "source": [
        "tfms = ar.transforms.valid_tfms()"
      ],
      "execution_count": null,
      "outputs": []
    },
    {
      "cell_type": "code",
      "metadata": {
        "id": "6Uixj2A85d6Q",
        "outputId": "52d9a3b3-a356-4dd0-fd33-eb2f4bb05a75"
      },
      "source": [
        "video_it = ar.io.VideoFramesIterator(\n",
        "    \"../data/ucf-101/videos/BasketballDunk/v_BasketballDunk_g01_c07.avi\", \n",
        "    transforms=tfms)\n",
        "clips = ar.video.uniform_sampling(video_it, clips_len=16)\n",
        "input_clips = torch.stack(clips)\n",
        "input_clips.size()"
      ],
      "execution_count": null,
      "outputs": [
        {
          "output_type": "execute_result",
          "data": {
            "text/plain": [
              "torch.Size([3, 3, 16, 128, 128])"
            ]
          },
          "metadata": {
            "tags": []
          },
          "execution_count": 13
        }
      ]
    },
    {
      "cell_type": "code",
      "metadata": {
        "id": "RSRotXlo5d6Q",
        "outputId": "3002b2d4-69e0-4647-a1f4-41034cbb1346"
      },
      "source": [
        "with torch.no_grad():\n",
        "    prob_dist = model(input_clips)\n",
        "    score, label = prob_dist.exp().mean(0).max(0)\n",
        "\n",
        "print(f'Model predicted {classes[label.item()]} with {score.item()} of confidence')"
      ],
      "execution_count": null,
      "outputs": [
        {
          "output_type": "stream",
          "text": [
            "Model predicted BasketballDunk\n",
            " with 0.6483045220375061 of confidence\n"
          ],
          "name": "stdout"
        }
      ]
    }
  ]
}